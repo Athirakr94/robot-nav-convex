{
 "cells": [
  {
   "cell_type": "code",
   "execution_count": 1,
   "id": "963b7021",
   "metadata": {},
   "outputs": [],
   "source": [
    "import numpy as np\n",
    "import cvxpy as cp\n",
    "import matplotlib.pyplot as plt"
   ]
  },
  {
   "cell_type": "code",
   "execution_count": 2,
   "id": "5738a8fd",
   "metadata": {},
   "outputs": [],
   "source": [
    "m = 10\n",
    "M = m*np.eye(2)\n",
    "C = 0\n",
    "d = 0\n",
    "R = np.zeros((2, 2))\n",
    "\n",
    "V_init = np.matrix([[0], [0]])\n",
    "\n",
    "\n",
    "N = 100"
   ]
  },
  {
   "cell_type": "code",
   "execution_count": 3,
   "id": "9f5e2543",
   "metadata": {},
   "outputs": [
    {
     "data": {
      "image/png": "[encoded data removed]",
      "text/plain": [
       "<Figure size 432x288 with 1 Axes>"
      ]
     },
     "metadata": {
      "needs_background": "light"
     },
     "output_type": "display_data"
    }
   ],
   "source": [
    "# PATH gen\n",
    "x = np.linspace(0, 1, N).reshape(-1, 1)\n",
    "q = np.hstack((np.power(x, 2), 100*x)).T\n",
    "\n",
    "plt.figure()\n",
    "plt.plot(q[0, :], q[1, :], \"r-.\")\n",
    "plt.grid()\n",
    "plt.title(\"Traversing path\")\n",
    "plt.show()"
   ]
  },
  {
   "cell_type": "code",
   "execution_count": 4,
   "id": "af9aafde",
   "metadata": {},
   "outputs": [],
   "source": [
    "def R(s):\n",
    "    n = s.shape[1]\n",
    "    r = np.zeros((n, 2, 2))\n",
    "    phi = np.arctan(s[1, :]/s[0, :])\n",
    "    for i in range(n):\n",
    "        r[i, :, :] = np.matrix([[np.cos(phi[i]), -1*np.sin(phi[i])], [np.sin(phi[i]), np.cos(phi[i])]])\n",
    "    return r\n",
    "\n",
    "thetha = np.linspace(0, 1, N).reshape(1, -1)\n",
    "dthetha = thetha[0, 1] - thetha[0, 0]\n",
    "\n",
    "def get_bar(thetha, N):\n",
    "    thetha_bar = []\n",
    "    for i in range(1, N):\n",
    "        thetha_bar.append((thetha[:, i] + thetha[:, i-1])/2)\n",
    "    thetha_bar = np.array(thetha_bar).reshape(1, -1)\n",
    "    return thetha_bar\n",
    "\n",
    "thetha_bar = get_bar(thetha, N)\n",
    "\n",
    "u = cp.Variable((2, N))\n",
    "b = cp.Variable((1, N))\n",
    "\n",
    "b_bar = get_bar(b, N)\n",
    "\n",
    "a = (cp.diff(b.T, k=1)/(2*dthetha)).T\n",
    "\n",
    "s_bar_1 = (cp.diff(q.T, k=1)/dthetha).T\n",
    "\n",
    "s_bar_2 = (cp.diff(q.T, k=2)/dthetha).T"
   ]
  },
  {
   "cell_type": "code",
   "execution_count": 5,
   "id": "4e277675",
   "metadata": {},
   "outputs": [],
   "source": [
    "t = cp.Variable((1, N-1))\n",
    "\n",
    "cost = cp.sum(t)\n",
    "\n",
    "Objective = cp.Minimize(cost)"
   ]
  },
  {
   "cell_type": "code",
   "execution_count": 6,
   "id": "e258175a",
   "metadata": {},
   "outputs": [],
   "source": [
    "R_tilde = R(s_bar_1.value)\n",
    "m_tilde = M@s_bar_1\n",
    "c_tilde = M@cp.hstack((s_bar_2, cp.reshape(s_bar_2[:, -1], (2, 1)))) + C*cp.power(s_bar_1, 2)\n",
    "d_tilde = d\n",
    "\n",
    "s_1 = cp.diff(q, axis=1)"
   ]
  },
  {
   "cell_type": "code",
   "execution_count": 7,
   "id": "9760f05d",
   "metadata": {},
   "outputs": [],
   "source": [
    "alpha = 0\n",
    "\n",
    "Constraints = []\n",
    "for i in range(1, N-1):\n",
    "    Constraints.append(R_tilde[i]@cp.reshape(u[:, i], (2, 1)) == m_tilde*a[:, i] + c_tilde*0.5*(b[:, i-1] + b[:, i]) + d_tilde)\n",
    "\n",
    "Constraints.append(b[:, 0] == cp.power(np.linalg.norm(V_init)*dthetha/np.linalg.norm(q[1] - q[0]), 2))\n",
    "\n",
    "\n",
    "for i in range(1, N):\n",
    "    Constraints.append(2*dthetha*cp.inv_pos(t[0, i-1]) - cp.sqrt(b[0, i]) - cp.sqrt(b[0, i-1]) <= 0)"
   ]
  },
  {
   "cell_type": "code",
   "execution_count": 8,
   "id": "06795013",
   "metadata": {},
   "outputs": [],
   "source": [
    "problem = cp.Problem(objective=Objective, constraints=Constraints)"
   ]
  },
  {
   "cell_type": "code",
   "execution_count": 9,
   "id": "00dfadc7",
   "metadata": {
    "scrolled": true
   },
   "outputs": [
    {
     "name": "stdout",
     "output_type": "stream",
     "text": [
      "===============================================================================\n",
      "                                     CVXPY                                     \n",
      "                                     v1.2.0                                    \n",
      "===============================================================================\n",
      "(CVXPY) Apr 29 03:06:10 PM: Your problem has 399 variables, 198 constraints, and 0 parameters.\n",
      "(CVXPY) Apr 29 03:06:10 PM: It is compliant with the following grammars: DCP, DQCP\n",
      "(CVXPY) Apr 29 03:06:10 PM: (If you need to solve this problem multiple times, but with different data, consider using parameters.)\n",
      "(CVXPY) Apr 29 03:06:10 PM: CVXPY will first compile your problem; then, it will invoke a numerical solver to obtain a solution.\n",
      "-------------------------------------------------------------------------------\n",
      "                                  Compilation                                  \n",
      "-------------------------------------------------------------------------------\n",
      "(CVXPY) Apr 29 03:06:10 PM: Compiling problem (target solver=ECOS_BB).\n",
      "(CVXPY) Apr 29 03:06:10 PM: Reduction chain: Dcp2Cone -> CvxAttr2Constr -> ConeMatrixStuffing -> ECOS_BB\n",
      "(CVXPY) Apr 29 03:06:10 PM: Applying reduction Dcp2Cone\n",
      "(CVXPY) Apr 29 03:06:11 PM: Applying reduction CvxAttr2Constr\n",
      "(CVXPY) Apr 29 03:06:11 PM: Applying reduction ConeMatrixStuffing\n",
      "(CVXPY) Apr 29 03:06:11 PM: Applying reduction ECOS_BB\n",
      "(CVXPY) Apr 29 03:06:12 PM: Finished problem compilation (took 1.543e+00 seconds).\n",
      "-------------------------------------------------------------------------------\n",
      "                                Numerical solver                               \n",
      "-------------------------------------------------------------------------------\n",
      "(CVXPY) Apr 29 03:06:12 PM: Invoking solver ECOS_BB  to obtain a solution.\n",
      "\n",
      "ECOS 2.0.7 - (C) embotech GmbH, Zurich Switzerland, 2012-15. Web: www.embotech.com/ECOS\n",
      "\n",
      "It     pcost       dcost      gap   pres   dres    k/t    mu     step   sigma     IR    |   BT\n",
      " 0  +0.000e+00  -1.170e+02  +1e+03  6e-01  4e-01  1e+00  3e+00    ---    ---    1  1  - |  -  - \n",
      " 1  +4.397e+01  +2.094e+01  +3e+02  3e-03  9e-02  5e-01  7e-01  0.7742  4e-02   4  9  9 |  0  0\n",
      " 2  -4.126e+01  -6.932e+01  +1e+02  2e-03  2e-01  1e+00  4e-01  0.7504  3e-01   1  1  1 |  0  0\n",
      " 3  +4.633e+00  +3.368e+00  +9e+00  9e-05  8e-03  7e-02  2e-02  0.9491  5e-03   1  1  1 |  0  0\n",
      " 4  +4.898e+00  +4.606e+00  +2e+00  2e-05  2e-03  2e-02  4e-03  0.8861  1e-01   1  1  1 |  0  0\n",
      " 5  +3.333e+00  +3.110e+00  +9e-01  2e-05  2e-03  2e-02  2e-03  0.7791  4e-01   1  1  1 |  0  0\n",
      " 6  +2.158e+00  +2.104e+00  +2e-01  4e-06  5e-04  9e-03  4e-04  0.8618  5e-02   0  1  1 |  0  0\n",
      " 7  +1.991e+00  +1.937e+00  +1e-01  4e-06  5e-04  9e-03  4e-04  0.3282  6e-01   0  1  1 |  0  0\n",
      " 8  +1.042e+00  +1.032e+00  +2e-02  1e-06  1e-04  5e-03  5e-05  0.9321  7e-02   1  1  1 |  0  0\n",
      " 9  +5.486e-01  +5.425e-01  +9e-03  8e-07  1e-04  6e-03  2e-05  0.7384  3e-01   0  1  0 |  0  0\n",
      "10  +5.754e-01  +5.734e-01  +3e-03  3e-07  3e-05  2e-03  7e-06  0.7926  1e-01   1  1  1 |  0  0\n",
      "11  +4.490e-01  +4.479e-01  +1e-03  2e-07  2e-05  1e-03  3e-06  0.8147  3e-01   1  1  1 |  0  0\n",
      "12  +3.084e-01  +3.082e-01  +3e-04  7e-08  9e-06  8e-04  9e-07  0.9164  2e-01   1  1  1 |  0  0\n",
      "13  +1.893e-01  +1.895e-01  +6e-05  2e-08  2e-06  4e-04  2e-07  0.8879  7e-02   1  1  0 |  0  0\n",
      "14  +1.051e-01  +1.054e-01  +3e-05  1e-08  2e-06  5e-04  7e-08  0.7499  3e-01   1  0  1 |  0  0\n",
      "15  +1.115e-01  +1.115e-01  +7e-06  4e-09  4e-07  1e-04  2e-08  0.9285  2e-01   1  1  1 |  0  0\n",
      "16  +8.256e-02  +8.262e-02  +3e-06  7e-09  6e-07  1e-04  8e-09  0.7117  3e-01   2  1  2 |  0  0\n",
      "17  +7.222e-02  +7.226e-02  +2e-06  4e-09  5e-07  7e-05  5e-09  0.7031  4e-01   1  2  1 |  0  0\n",
      "18  +5.681e-02  +5.681e-02  +1e-07  1e-09  3e-07  8e-06  3e-10  0.9479  2e-02   1  2  2 |  0  0\n",
      "19  +5.480e-02  +5.480e-02  +1e-08  7e-09  3e-07  8e-07  3e-11  0.9459  4e-02   0  1  2 |  0  0\n",
      "20  +5.482e-02  +5.482e-02  +1e-09  1e-07  3e-07  9e-08  3e-12  0.9401  5e-02   1  1  2 |  0  0\n",
      "21  +5.394e-02  +5.394e-02  +3e-10  1e-07  3e-07  1e-08  6e-13  0.9164  8e-02   1  2  2 |  0  0\n",
      "22  +5.396e-02  +5.396e-02  +3e-10  1e-07  3e-07  1e-08  7e-13  0.0927  8e-01   2  2  2 |  0  0\n",
      "23  +5.424e-02  +5.424e-02  +2e-10  3e-07  3e-07  5e-09  4e-13  0.9890  3e-01   2  2  2 |  0  0\n",
      "24  +5.346e-02  +5.346e-02  +1e-10  4e-07  3e-07  2e-09  3e-13  0.9890  2e-01   1  2  2 |  0  0\n",
      "25  +5.585e-02  +5.585e-02  +5e-11  8e-07  2e-07  9e-10  1e-13  0.9890  1e-01   2  1  1 |  0  0\n",
      "26  +5.527e-02  +5.527e-02  +1e-10  7e-07  2e-07  1e-09  3e-13  0.7068  5e-01   2  2  2 |  0  0\n",
      "27  +5.298e-02  +5.298e-02  +4e-11  5e-07  3e-07  8e-10  1e-13  0.9890  8e-02   1  2  2 |  0  0\n",
      "28  +5.310e-02  +5.310e-02  +1e-10  6e-07  3e-07  2e-09  3e-13  0.8835  6e-01   1  2  1 |  0  0\n",
      "29  +5.495e-02  +5.495e-02  +7e-11  5e-07  2e-07  2e-09  2e-13  0.9537  2e-01   2  2  2 |  0  0\n",
      "30  +5.492e-02  +5.492e-02  +8e-11  5e-07  2e-07  2e-09  2e-13  0.0927  9e-01   2  2  1 |  0  0\n",
      "31  +5.103e-02  +5.103e-02  +2e-10  6e-07  3e-07  3e-09  6e-13  0.9890  6e-01   2  2  1 |  0  0\n",
      "32  +5.216e-02  +5.216e-02  +2e-10  3e-07  3e-07  5e-09  4e-13  0.8572  3e-01   1  2  2 |  0  0\n",
      "33  +5.303e-02  +5.303e-02  +7e-11  4e-07  2e-07  2e-09  2e-13  0.9081  1e-01   1  2  2 |  0  0\n",
      "34  +5.300e-02  +5.300e-02  +8e-11  4e-07  2e-07  2e-09  2e-13  0.0936  8e-01   1  2  2 |  0  0\n",
      "35  +5.229e-02  +5.229e-02  +1e-10  5e-07  3e-07  3e-09  3e-13  0.9890  5e-01   2  2  2 |  0  0\n",
      "36  +5.142e-02  +5.142e-02  +1e-10  4e-07  3e-07  4e-09  3e-13  0.9218  4e-01   1  2  2 |  0  0\n",
      "37  +5.207e-02  +5.207e-02  +6e-11  6e-07  2e-07  1e-09  1e-13  0.9199  1e-01   2  2  2 |  0  0\n",
      "38  +5.201e-02  +5.201e-02  +7e-11  6e-07  3e-07  2e-09  2e-13  0.1008  8e-01   2  2  2 |  0  0\n",
      "39  +5.110e-02  +5.110e-02  +1e-10  8e-07  3e-07  3e-09  3e-13  0.9890  5e-01   1  2  2 |  0  0\n",
      "40  +5.164e-02  +5.164e-02  +1e-10  4e-07  2e-07  4e-09  3e-13  0.8604  4e-01   1  2  1 |  0  0\n",
      "41  +5.049e-02  +5.049e-02  +6e-11  5e-07  3e-07  2e-09  2e-13  0.9288  2e-01   2  2  2 |  0  0\n",
      "42  +5.046e-02  +5.046e-02  +8e-11  5e-07  3e-07  2e-09  2e-13  0.1058  8e-01   2  1  2 |  0  0\n",
      "43  +5.257e-02  +5.257e-02  +8e-11  5e-07  2e-07  2e-09  2e-13  0.9890  4e-01   2  2  2 |  0  0\n",
      "44  +4.937e-02  +4.937e-02  +1e-10  6e-07  3e-07  3e-09  3e-13  0.9890  4e-01   2  2  1 |  0  0\n",
      "45  +4.908e-02  +4.908e-02  +5e-11  5e-07  3e-07  1e-09  1e-13  0.9418  1e-01   2  2  2 |  0  0\n",
      "46  +4.925e-02  +4.925e-02  +6e-11  5e-07  3e-07  2e-09  2e-13  0.2020  8e-01   2  1  2 |  0  0\n",
      "47  +5.074e-02  +5.074e-02  +8e-11  8e-07  2e-07  2e-09  2e-13  0.9890  4e-01   2  1  2 |  0  0\n",
      "48  +4.990e-02  +4.990e-02  +1e-10  6e-07  3e-07  3e-09  3e-13  0.7056  5e-01   2  2  2 |  0  0\n",
      "49  +5.093e-02  +5.093e-02  +4e-11  5e-07  2e-07  1e-09  9e-14  0.9822  1e-01   2  1  2 |  0  0\n",
      "50  +5.077e-02  +5.077e-02  +6e-11  5e-07  2e-07  1e-09  1e-13  0.1875  8e-01   2  2  1 |  0  0\n",
      "51  +4.842e-02  +4.842e-02  +1e-10  7e-07  3e-07  2e-09  3e-13  0.9890  5e-01   2  2  1 |  0  0\n",
      "52  +4.886e-02  +4.886e-02  +1e-10  5e-07  3e-07  4e-09  3e-13  0.6806  5e-01   1  2  2 |  0  0\n",
      "53  +5.274e-02  +5.274e-02  +3e-11  5e-07  2e-07  1e-09  6e-14  0.9890  9e-02   2  2  2 |  0  0\n",
      "54  +5.232e-02  +5.232e-02  +5e-11  7e-06  2e-07  1e-09  1e-13  0.1699  8e-01   2  1  2 |  0  0\n",
      "55  +5.065e-02  +5.065e-02  +7e-11  3e-06  2e-07  2e-09  2e-13  0.9890  4e-01   1  2  2 |  0  0\n",
      "56  +5.063e-02  +5.063e-02  +9e-11  2e-06  2e-07  3e-09  2e-13  0.6877  5e-01   1  1  2 |  0  0\n",
      "57  +5.332e-02  +5.332e-02  +3e-11  7e-07  2e-07  1e-09  7e-14  0.9887  1e-01   2  1  2 |  0  0\n",
      "58  +5.311e-02  +5.311e-02  +4e-11  7e-07  2e-07  1e-09  1e-13  0.1609  9e-01   2  1  1 |  0  0\n",
      "59  +4.861e-02  +4.861e-02  +1e-10  9e-07  2e-07  2e-09  3e-13  0.9890  5e-01   2  2  1 |  0  0\n",
      "60  +4.999e-02  +4.999e-02  +9e-11  5e-07  2e-07  4e-09  2e-13  0.8769  4e-01   2  2  2 |  0  0\n",
      "61  +5.095e-02  +5.095e-02  +3e-11  1e-06  2e-07  1e-09  8e-14  0.9530  1e-01   2  2  2 |  0  0\n",
      "62  +5.119e-02  +5.119e-02  +4e-11  1e-06  2e-07  1e-09  1e-13  0.3143  8e-01   2  2  1 |  0  0\n",
      "63  +5.464e-02  +5.464e-02  +3e-11  9e-07  2e-07  1e-09  8e-14  0.9890  3e-01   2  1  1 |  0  0\n",
      "64  +5.446e-02  +5.446e-02  +5e-11  8e-07  2e-07  1e-09  1e-13  0.7941  5e-01   2  2  2 |  0  0\n"
     ]
    },
    {
     "name": "stdout",
     "output_type": "stream",
     "text": [
      "65  +5.004e-02  +5.004e-02  +8e-11  1e-06  2e-07  2e-09  2e-13  0.8058  4e-01   2  2  1 |  0  0\n",
      "66  +5.005e-02  +5.005e-02  +9e-11  1e-06  2e-07  3e-09  2e-13  0.2038  9e-01   1  2  2 |  0  0\n",
      "67  +5.249e-02  +5.249e-02  +6e-11  8e-07  2e-07  4e-09  2e-13  0.9890  5e-01   2  2  2 |  0  0\n",
      "68  +5.186e-02  +5.186e-02  +7e-11  6e-07  2e-07  3e-09  2e-13  0.8646  5e-01   2  1  1 |  0  0\n",
      "69  +4.553e-02  +4.553e-02  +1e-10  1e-06  3e-07  3e-09  3e-13  0.8424  4e-01   2  2  2 |  0  0\n",
      "70  +4.559e-02  +4.559e-02  +1e-10  1e-06  3e-07  3e-09  3e-13  0.1486  9e-01   1  1  2 |  0  0\n",
      "71  +4.542e-02  +4.542e-02  +1e-10  7e-07  3e-07  5e-09  3e-13  0.9890  5e-01   1  2  2 |  0  0\n",
      "72  +4.720e-02  +4.720e-02  +8e-11  4e-07  2e-07  4e-09  2e-13  0.9305  3e-01   2  2  2 |  0  0\n",
      "73  +4.832e-02  +4.832e-02  +4e-11  6e-07  2e-07  1e-09  9e-14  0.8993  1e-01   1  1  1 |  0  0\n",
      "74  +4.819e-02  +4.819e-02  +5e-11  6e-07  2e-07  2e-09  1e-13  0.1390  9e-01   2  2  2 |  0  0\n",
      "75  +4.678e-02  +4.678e-02  +8e-11  7e-07  2e-07  2e-09  2e-13  0.9890  5e-01   2  2  2 |  0  0\n",
      "76  +4.893e-02  +4.893e-02  +6e-11  4e-07  2e-07  3e-09  1e-13  0.9449  4e-01   2  1  2 |  0  0\n",
      "77  +4.695e-02  +4.695e-02  +5e-11  8e-07  2e-07  1e-09  1e-13  0.8722  2e-01   2  1  2 |  0  0\n",
      "78  +4.687e-02  +4.687e-02  +6e-11  8e-07  2e-07  2e-09  1e-13  0.1564  9e-01   2  2  1 |  0  0\n",
      "79  +4.349e-02  +4.349e-02  +1e-10  1e-06  3e-07  3e-09  3e-13  0.9890  6e-01   2  2  2 |  0  0\n",
      "80  +4.735e-02  +4.735e-02  +7e-11  5e-07  2e-07  4e-09  2e-13  0.9501  3e-01   2  1  1 |  0  0\n",
      "81  +4.529e-02  +4.529e-02  +4e-11  9e-07  2e-07  2e-09  1e-13  0.8912  2e-01   2  1  2 |  0  0\n",
      "82  +4.553e-02  +4.553e-02  +5e-11  9e-07  2e-07  2e-09  1e-13  0.2758  8e-01   2  2  2 |  0  0\n",
      "83  +4.525e-02  +4.525e-02  +7e-11  7e-07  2e-07  2e-09  2e-13  0.9890  5e-01   2  1  2 |  0  0\n",
      "84  +4.697e-02  +4.697e-02  +6e-11  5e-07  2e-07  3e-09  2e-13  0.8530  4e-01   1  2  1 |  0  0\n",
      "85  +4.537e-02  +4.537e-02  +5e-11  7e-07  2e-07  2e-09  1e-13  0.8760  2e-01   2  1  2 |  0  0\n",
      "86  +4.534e-02  +4.534e-02  +6e-11  7e-07  2e-07  2e-09  1e-13  0.2070  9e-01   2  2  2 |  0  0\n",
      "87  +4.669e-02  +4.669e-02  +6e-11  7e-07  2e-07  3e-09  1e-13  0.9890  4e-01   2  2  1 |  0  0\n",
      "88  +4.903e-02  +4.903e-02  +4e-11  6e-07  2e-07  2e-09  1e-13  0.8993  4e-01   2  2  2 |  0  0\n",
      "89  +4.834e-02  +4.834e-02  +4e-11  1e-06  2e-07  2e-09  1e-13  0.7934  3e-01   2  2  1 |  0  0\n",
      "90  +4.820e-02  +4.820e-02  +5e-11  1e-06  2e-07  2e-09  1e-13  0.2169  9e-01   2  1  2 |  0  0\n",
      "91  +5.257e-02  +5.257e-02  +3e-11  6e-07  2e-07  2e-09  8e-14  0.9890  3e-01   2  2  1 |  0  0\n",
      "92  +4.822e-02  +4.822e-02  +8e-11  7e-07  2e-07  2e-09  2e-13  0.8369  6e-01   2  2  2 |  0  0\n",
      "93  +5.198e-02  +5.198e-02  +2e-11  6e-07  2e-07  1e-09  6e-14  0.9248  2e-01   2  2  2 |  0  0\n",
      "94  +5.169e-02  +5.169e-02  +4e-11  6e-07  2e-07  2e-09  9e-14  0.2597  9e-01   2  2  2 |  0  0\n",
      "95  +5.037e-02  +5.037e-02  +4e-11  9e-07  2e-07  2e-09  9e-14  0.9890  4e-01   2  2  2 |  0  0\n",
      "96  +4.860e-02  +4.860e-02  +5e-11  7e-07  2e-07  2e-09  1e-13  0.7936  6e-01   2  1  1 |  0  0\n",
      "97  +4.934e-02  +4.934e-02  +4e-11  8e-07  2e-07  2e-09  9e-14  0.8232  3e-01   1  2  2 |  0  0\n",
      "98  +4.934e-02  +4.934e-02  +5e-11  7e-07  2e-07  3e-09  1e-13  0.5569  9e-01   2  2  2 |  0  0\n",
      "99  +5.203e-02  +5.203e-02  +3e-11  9e-07  2e-07  2e-09  8e-14  0.9890  4e-01   1  2  2 |  0  0\n",
      "100  +5.143e-02  +5.143e-02  +4e-11  8e-07  2e-07  2e-09  1e-13  0.6924  7e-01   2  1  2 |  0  0\n",
      "Maximum number of iterations reached, recovering best iterate (18) and stopping.\n",
      "\n",
      "Close to OPTIMAL (within feastol=3.5e-07, reltol=2.3e-06, abstol=1.3e-07).\n",
      "Runtime: 1.791549 seconds.\n",
      "\n",
      "-------------------------------------------------------------------------------\n",
      "                                    Summary                                    \n",
      "-------------------------------------------------------------------------------\n",
      "(CVXPY) Apr 29 03:06:14 PM: Problem status: optimal_inaccurate\n",
      "(CVXPY) Apr 29 03:06:14 PM: Optimal value: 5.681e-02\n",
      "(CVXPY) Apr 29 03:06:14 PM: Compilation took 1.543e+00 seconds\n",
      "(CVXPY) Apr 29 03:06:14 PM: Solver (including time spent in interface) took 1.795e+00 seconds\n"
     ]
    },
    {
     "name": "stderr",
     "output_type": "stream",
     "text": [
      "/home/solomon/.local/lib/python3.8/site-packages/cvxpy/problems/problem.py:1333: UserWarning: Solution may be inaccurate. Try another solver, adjusting the solver settings, or solve with verbose=True for more information.\n",
      "  warnings.warn(\n"
     ]
    },
    {
     "data": {
      "text/plain": [
       "0.05680706056717513"
      ]
     },
     "execution_count": 9,
     "metadata": {},
     "output_type": "execute_result"
    }
   ],
   "source": [
    "problem.solve(verbose=True, solver='ECOS_BB')"
   ]
  },
  {
   "cell_type": "code",
   "execution_count": 10,
   "id": "8125562a",
   "metadata": {},
   "outputs": [
    {
     "data": {
      "image/png": "[encoded data removed]",
      "text/plain": [
       "<Figure size 432x288 with 1 Axes>"
      ]
     },
     "metadata": {
      "needs_background": "light"
     },
     "output_type": "display_data"
    }
   ],
   "source": [
    "plt.figure()\n",
    "plt.plot(u.value[0, :], u.value[1, :])\n",
    "plt.xlabel('f_lat')\n",
    "plt.ylabel('f_long')\n",
    "plt.grid()\n",
    "plt.show()"
   ]
  },
  {
   "cell_type": "code",
   "execution_count": 11,
   "id": "8f2dc0d8",
   "metadata": {},
   "outputs": [
    {
     "name": "stdout",
     "output_type": "stream",
     "text": [
      "Optimal time for traversal is 0.05575500446479203\n"
     ]
    }
   ],
   "source": [
    "t = 0\n",
    "for i in range(1, N):\n",
    "    t += 2*dthetha/(np.sqrt(b.value[0, i-1]) + np.sqrt(b.value[0, i]))\n",
    "print(\"Optimal time for traversal is {}\".format(t))"
   ]
  }
 ],
 "metadata": {
  "kernelspec": {
   "display_name": "Python 3",
   "language": "python",
   "name": "python3"
  },
  "language_info": {
   "codemirror_mode": {
    "name": "ipython",
    "version": 3
   },
   "file_extension": ".py",
   "mimetype": "text/x-python",
   "name": "python",
   "nbconvert_exporter": "python",
   "pygments_lexer": "ipython3",
   "version": "3.8.10"
  }
 },
 "nbformat": 4,
 "nbformat_minor": 5
}
