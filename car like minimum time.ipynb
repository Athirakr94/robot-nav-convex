{
 "cells": [
  {
   "cell_type": "code",
   "execution_count": 20,
   "id": "fa02b33b",
   "metadata": {},
   "outputs": [],
   "source": [
    "import numpy as np\n",
    "import cvxpy as cp\n",
    "import matplotlib.pyplot as plt\n",
    "from math import cos, sin"
   ]
  },
  {
   "cell_type": "code",
   "execution_count": 103,
   "id": "93a2839e",
   "metadata": {},
   "outputs": [
    {
     "name": "stdout",
     "output_type": "stream",
     "text": [
      "[[10.    0.    0.  ]\n",
      " [ 0.   10.    0.  ]\n",
      " [ 0.    0.    0.01]]\n"
     ]
    }
   ],
   "source": [
    "m = 10\n",
    "J=0.01\n",
    "M = np.matrix([[m,0,0],[0,m,0],[0,0,J]])\n",
    "C = 0\n",
    "d = 0\n",
    "R = np.zeros((2, 2))\n",
    "g=9.8\n",
    "v_init = np.matrix([[0.1], [0.1]])\n",
    "# u=np.zeros(8)#\n",
    "# u=[f_xfl,f_yfl, f_xfr , f_yfr , f_xrl , f_ylr , f_xrr , f_yrr]\n",
    "# u=np.array(u)\n",
    "N = 100\n",
    "print(M)\n",
    "# v_init=cp.Variable(2)\n",
    "u=cp.Variable((N,8))\n"
   ]
  },
  {
   "cell_type": "code",
   "execution_count": 104,
   "id": "af5f49bb",
   "metadata": {},
   "outputs": [
    {
     "data": {
      "image/png": "[encoded data removed]",
      "text/plain": [
       "<Figure size 432x288 with 1 Axes>"
      ]
     },
     "metadata": {
      "needs_background": "light"
     },
     "output_type": "display_data"
    }
   ],
   "source": [
    "# PATH gen\n",
    "x = np.linspace(0, 5, N).reshape(-1, 1)\n",
    "path = np.hstack((x, np.power(x, 2))).T\n",
    "\n",
    "plt.figure()\n",
    "plt.plot(path[0, :], path[1, :], \"r-.\")\n",
    "plt.grid()\n",
    "plt.title(\"Traversing path\")\n",
    "plt.show()\n",
    "s=np.zeros((N,2))\n"
   ]
  },
  {
   "cell_type": "code",
   "execution_count": 115,
   "id": "da0288b8",
   "metadata": {},
   "outputs": [],
   "source": [
    "def get_bar(thetha,i):\n",
    "#     thetha_bar = []\n",
    "#     for i in range(1, N):\n",
    "#         thetha_bar.append((thetha[:, i] + thetha[:, i-1])/2)\n",
    "#     thetha_bar = np.array(thetha_bar).reshape(1, -1)\n",
    "    return (thetha[i] + thetha[i-1])/2\n",
    "def get_R(angle,Wf,w,L):\n",
    "    return np.matrix([[cos(angle),-sin(angle),cos(angle),-sin(angle),cos(angle),-sin(angle),cos(angle),-sin(angle)],\n",
    "                      [sin(angle),cos(angle),sin(angle),cos(angle),sin(angle),cos(angle),sin(angle),cos(angle)],\n",
    "                      [(1-Wf)*L,-w/2,(1-Wf)*L,w/2,-Wf*L,-w/2,-Wf*L,w/2]])"
   ]
  },
  {
   "cell_type": "code",
   "execution_count": 132,
   "id": "74fa8e03",
   "metadata": {},
   "outputs": [
    {
     "name": "stdout",
     "output_type": "stream",
     "text": [
      "[[ 1.  -0.   1.  -0.   1.  -0.   1.  -0. ]\n",
      " [ 0.   1.   0.   1.   0.   1.   0.   1. ]\n",
      " [ 1.  -0.5  1.   0.5 -1.  -0.5 -1.   0.5]]\n"
     ]
    },
    {
     "data": {
      "text/plain": [
       "[<matplotlib.lines.Line2D at 0x7facd51dadc0>]"
      ]
     },
     "execution_count": 132,
     "metadata": {},
     "output_type": "execute_result"
    },
    {
     "data": {
      "image/png": "[encoded data removed]",
      "text/plain": [
       "<Figure size 432x288 with 1 Axes>"
      ]
     },
     "metadata": {
      "needs_background": "light"
     },
     "output_type": "display_data"
    }
   ],
   "source": [
    "L=2\n",
    "w=1\n",
    "Wf=0.5\n",
    "T=[]\n",
    "q=np.zeros((N,3))#X,Y,THETA\n",
    "R=np.zeros((N,3,8))\n",
    "d_theta=np.zeros(N)\n",
    "theta=[]\n",
    "a=cp.Variable(N)\n",
    "b=cp.Variable(N)\n",
    "b_dot=cp.Variable(N)\n",
    "\n",
    "for i in range(N):\n",
    "    T.append(i)\n",
    "    temp_x=path[0,i]\n",
    "    temp_y=path[1,i]\n",
    "    if temp_y!=0:\n",
    "        angle=np.arctan(temp_x/temp_y)*(3.14/180)\n",
    "    else:\n",
    "        angle=0\n",
    "    q[i,0]=temp_x\n",
    "    q[i,1]=temp_y\n",
    "    q[i,2]=angle\n",
    "    s[i,0]=temp_x\n",
    "    s[i,1]=temp_y\n",
    "    theta.append(angle)\n",
    "    R[i,:,:]=get_R(angle,Wf,w,L)\n",
    "    theta_dot=get_bar(theta,i)\n",
    "# #     print(theta_dot)\n",
    "#     b[i]=theta_dot**2\n",
    "#     a[i]=get_bar(b,i)\n",
    "#     b_dot[i]=2*a[i]*theta_dot\n",
    "#     try:\n",
    "#         d_theta[i]=theta[-1]-theta[-2]\n",
    "#     except:pass\n",
    "# print(q)\n",
    "theta=np.array(theta)\n",
    "print(R[0,:,:])\n",
    "for i in range(N):\n",
    "    try:\n",
    "        d_theta[i]=theta[0][i+1]-theta[0][i]\n",
    "    except:pass\n",
    "T=np.array(T)\n",
    "plt.plot(T,theta)"
   ]
  },
  {
   "cell_type": "code",
   "execution_count": null,
   "id": "f8f89594",
   "metadata": {},
   "outputs": [],
   "source": []
  },
  {
   "cell_type": "code",
   "execution_count": 157,
   "id": "6e9a128a",
   "metadata": {},
   "outputs": [
    {
     "name": "stdout",
     "output_type": "stream",
     "text": [
      "var58565[0] 0.0\n"
     ]
    }
   ],
   "source": [
    "cost=0\n",
    "for i in range (N):\n",
    "    try:\n",
    "        b_theta=b[i]+([theta[i],theta[i+1]]-theta[i]@((b[i+1]-b[i])/(theta[i+1]-theta[i])))\n",
    "    except:\n",
    "        b_theta=b[i]\n",
    "    cost+=(b_theta)\n",
    "#     num=get_bar(theta,i)\n",
    "#     try:\n",
    "#         denom=cp.sqrt(b[i])+cp.sqrt(b[i+1])\n",
    "#     except:\n",
    "# #         denom=cp.sqrt(b[i])\n",
    "#         pass\n",
    "#     cost+=(num/denom)\n",
    "\n",
    "objective=cp.Minimize(2*cost)#30\n",
    "constraints=[b>=0]\n",
    "print(b[0],d_theta[0])\n",
    "# u=[f_xfl,f_yfl, f_xfr , f_yfr , f_xrl , f_ylr , f_xrr , f_yrr]\n",
    "constraints.append(cp.norm(u[:,0]-u[:,1],2)<=(0.5*Wf*m*g))\n",
    "constraints.append(cp.norm(u[:,2]-u[:,3],2)<=(0.5*Wf*m*g))\n",
    "constraints.append(cp.norm(u[:,4]-u[:,5],2)<=(0.5*(1-Wf)*m*g))\n",
    "constraints.append(cp.norm(u[:,6]-u[:,7],2)<=(0.5*(1-Wf)*m*g))\n",
    "# s_bar_1 = (cp.diff(s.T[0,:], k=1)/d_theta).T\n",
    "# print(cp.norm(s).shape)\n",
    "for i in range(N):\n",
    "    if i>0:\n",
    "        constraints.append(b[i]-b[i-1]==2*a[i]*d_theta[i])#34\n",
    "    else:\n",
    "        constraints.append(b[i]<=(cp.norm(v_init,2)*d_theta[i])/cp.norm(s[1]-s[0],2)**2)#33\n",
    "    try:\n",
    "        theta_tilda=0.5*(theta[i-1]+theta[0][i])\n",
    "    except:\n",
    "#         print(theta)\n",
    "        theta_tilda=0.5*(theta[i])\n",
    "        pass\n",
    "    R_tilda=get_R(theta_tilda*(3.14/180),Wf,w,L)\n",
    "    s_theta=s[i]\n",
    "#     print(\"----->\",(thetha[i] ))\n",
    "# #     s_bar_1 = (cp.diff(s.T, k=1)/dthetha).T\n",
    "#     print((s[i]-s[i-1]),get_bar(thetha,i))\n",
    "#     s_dash\n",
    "    if theta_tilda!=0:\n",
    "        s_dash=(q[i]-q[i-1])/theta_tilda\n",
    "        m_tilda=(M@q[i].T)@s_dash.T\n",
    "        constraints.append(R_tilda@u[i]==m_tilda*a[i])#31\n",
    "    "
   ]
  },
  {
   "cell_type": "code",
   "execution_count": null,
   "id": "02dd5a1a",
   "metadata": {},
   "outputs": [],
   "source": []
  },
  {
   "cell_type": "code",
   "execution_count": 158,
   "id": "26dd02d3",
   "metadata": {},
   "outputs": [
    {
     "data": {
      "text/plain": [
       "-9.906642791025391e-12"
      ]
     },
     "execution_count": 158,
     "metadata": {},
     "output_type": "execute_result"
    }
   ],
   "source": [
    "prob=cp.Problem(objective,constraints)\n",
    "prob.solve()"
   ]
  },
  {
   "cell_type": "code",
   "execution_count": 159,
   "id": "35360a7d",
   "metadata": {},
   "outputs": [
    {
     "name": "stdout",
     "output_type": "stream",
     "text": [
      "[[0. 0. 0. 0. 0. 0. 0. 0.]\n",
      " [0. 0. 0. 0. 0. 0. 0. 0.]\n",
      " [0. 0. 0. 0. 0. 0. 0. 0.]\n",
      " [0. 0. 0. 0. 0. 0. 0. 0.]\n",
      " [0. 0. 0. 0. 0. 0. 0. 0.]\n",
      " [0. 0. 0. 0. 0. 0. 0. 0.]\n",
      " [0. 0. 0. 0. 0. 0. 0. 0.]\n",
      " [0. 0. 0. 0. 0. 0. 0. 0.]\n",
      " [0. 0. 0. 0. 0. 0. 0. 0.]\n",
      " [0. 0. 0. 0. 0. 0. 0. 0.]\n",
      " [0. 0. 0. 0. 0. 0. 0. 0.]\n",
      " [0. 0. 0. 0. 0. 0. 0. 0.]\n",
      " [0. 0. 0. 0. 0. 0. 0. 0.]\n",
      " [0. 0. 0. 0. 0. 0. 0. 0.]\n",
      " [0. 0. 0. 0. 0. 0. 0. 0.]\n",
      " [0. 0. 0. 0. 0. 0. 0. 0.]\n",
      " [0. 0. 0. 0. 0. 0. 0. 0.]\n",
      " [0. 0. 0. 0. 0. 0. 0. 0.]\n",
      " [0. 0. 0. 0. 0. 0. 0. 0.]\n",
      " [0. 0. 0. 0. 0. 0. 0. 0.]\n",
      " [0. 0. 0. 0. 0. 0. 0. 0.]\n",
      " [0. 0. 0. 0. 0. 0. 0. 0.]\n",
      " [0. 0. 0. 0. 0. 0. 0. 0.]\n",
      " [0. 0. 0. 0. 0. 0. 0. 0.]\n",
      " [0. 0. 0. 0. 0. 0. 0. 0.]\n",
      " [0. 0. 0. 0. 0. 0. 0. 0.]\n",
      " [0. 0. 0. 0. 0. 0. 0. 0.]\n",
      " [0. 0. 0. 0. 0. 0. 0. 0.]\n",
      " [0. 0. 0. 0. 0. 0. 0. 0.]\n",
      " [0. 0. 0. 0. 0. 0. 0. 0.]\n",
      " [0. 0. 0. 0. 0. 0. 0. 0.]\n",
      " [0. 0. 0. 0. 0. 0. 0. 0.]\n",
      " [0. 0. 0. 0. 0. 0. 0. 0.]\n",
      " [0. 0. 0. 0. 0. 0. 0. 0.]\n",
      " [0. 0. 0. 0. 0. 0. 0. 0.]\n",
      " [0. 0. 0. 0. 0. 0. 0. 0.]\n",
      " [0. 0. 0. 0. 0. 0. 0. 0.]\n",
      " [0. 0. 0. 0. 0. 0. 0. 0.]\n",
      " [0. 0. 0. 0. 0. 0. 0. 0.]\n",
      " [0. 0. 0. 0. 0. 0. 0. 0.]\n",
      " [0. 0. 0. 0. 0. 0. 0. 0.]\n",
      " [0. 0. 0. 0. 0. 0. 0. 0.]\n",
      " [0. 0. 0. 0. 0. 0. 0. 0.]\n",
      " [0. 0. 0. 0. 0. 0. 0. 0.]\n",
      " [0. 0. 0. 0. 0. 0. 0. 0.]\n",
      " [0. 0. 0. 0. 0. 0. 0. 0.]\n",
      " [0. 0. 0. 0. 0. 0. 0. 0.]\n",
      " [0. 0. 0. 0. 0. 0. 0. 0.]\n",
      " [0. 0. 0. 0. 0. 0. 0. 0.]\n",
      " [0. 0. 0. 0. 0. 0. 0. 0.]\n",
      " [0. 0. 0. 0. 0. 0. 0. 0.]\n",
      " [0. 0. 0. 0. 0. 0. 0. 0.]\n",
      " [0. 0. 0. 0. 0. 0. 0. 0.]\n",
      " [0. 0. 0. 0. 0. 0. 0. 0.]\n",
      " [0. 0. 0. 0. 0. 0. 0. 0.]\n",
      " [0. 0. 0. 0. 0. 0. 0. 0.]\n",
      " [0. 0. 0. 0. 0. 0. 0. 0.]\n",
      " [0. 0. 0. 0. 0. 0. 0. 0.]\n",
      " [0. 0. 0. 0. 0. 0. 0. 0.]\n",
      " [0. 0. 0. 0. 0. 0. 0. 0.]\n",
      " [0. 0. 0. 0. 0. 0. 0. 0.]\n",
      " [0. 0. 0. 0. 0. 0. 0. 0.]\n",
      " [0. 0. 0. 0. 0. 0. 0. 0.]\n",
      " [0. 0. 0. 0. 0. 0. 0. 0.]\n",
      " [0. 0. 0. 0. 0. 0. 0. 0.]\n",
      " [0. 0. 0. 0. 0. 0. 0. 0.]\n",
      " [0. 0. 0. 0. 0. 0. 0. 0.]\n",
      " [0. 0. 0. 0. 0. 0. 0. 0.]\n",
      " [0. 0. 0. 0. 0. 0. 0. 0.]\n",
      " [0. 0. 0. 0. 0. 0. 0. 0.]\n",
      " [0. 0. 0. 0. 0. 0. 0. 0.]\n",
      " [0. 0. 0. 0. 0. 0. 0. 0.]\n",
      " [0. 0. 0. 0. 0. 0. 0. 0.]\n",
      " [0. 0. 0. 0. 0. 0. 0. 0.]\n",
      " [0. 0. 0. 0. 0. 0. 0. 0.]\n",
      " [0. 0. 0. 0. 0. 0. 0. 0.]\n",
      " [0. 0. 0. 0. 0. 0. 0. 0.]\n",
      " [0. 0. 0. 0. 0. 0. 0. 0.]\n",
      " [0. 0. 0. 0. 0. 0. 0. 0.]\n",
      " [0. 0. 0. 0. 0. 0. 0. 0.]\n",
      " [0. 0. 0. 0. 0. 0. 0. 0.]\n",
      " [0. 0. 0. 0. 0. 0. 0. 0.]\n",
      " [0. 0. 0. 0. 0. 0. 0. 0.]\n",
      " [0. 0. 0. 0. 0. 0. 0. 0.]\n",
      " [0. 0. 0. 0. 0. 0. 0. 0.]\n",
      " [0. 0. 0. 0. 0. 0. 0. 0.]\n",
      " [0. 0. 0. 0. 0. 0. 0. 0.]\n",
      " [0. 0. 0. 0. 0. 0. 0. 0.]\n",
      " [0. 0. 0. 0. 0. 0. 0. 0.]\n",
      " [0. 0. 0. 0. 0. 0. 0. 0.]\n",
      " [0. 0. 0. 0. 0. 0. 0. 0.]\n",
      " [0. 0. 0. 0. 0. 0. 0. 0.]\n",
      " [0. 0. 0. 0. 0. 0. 0. 0.]\n",
      " [0. 0. 0. 0. 0. 0. 0. 0.]\n",
      " [0. 0. 0. 0. 0. 0. 0. 0.]\n",
      " [0. 0. 0. 0. 0. 0. 0. 0.]\n",
      " [0. 0. 0. 0. 0. 0. 0. 0.]\n",
      " [0. 0. 0. 0. 0. 0. 0. 0.]\n",
      " [0. 0. 0. 0. 0. 0. 0. 0.]\n",
      " [0. 0. 0. 0. 0. 0. 0. 0.]]\n"
     ]
    }
   ],
   "source": [
    "print(u.value)"
   ]
  },
  {
   "cell_type": "code",
   "execution_count": null,
   "id": "bf8ae5da",
   "metadata": {},
   "outputs": [],
   "source": []
  }
 ],
 "metadata": {
  "kernelspec": {
   "display_name": "Python 3 (ipykernel)",
   "language": "python",
   "name": "python3"
  },
  "language_info": {
   "codemirror_mode": {
    "name": "ipython",
    "version": 3
   },
   "file_extension": ".py",
   "mimetype": "text/x-python",
   "name": "python",
   "nbconvert_exporter": "python",
   "pygments_lexer": "ipython3",
   "version": "3.9.7"
  }
 },
 "nbformat": 4,
 "nbformat_minor": 5
}
