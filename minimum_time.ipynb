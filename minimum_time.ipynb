{
 "cells": [
  {
   "cell_type": "code",
   "execution_count": 1,
   "id": "d60a0c48",
   "metadata": {},
   "outputs": [],
   "source": [
    "import numpy as np\n",
    "import cvxpy as cp\n",
    "import matplotlib.pyplot as plt"
   ]
  },
  {
   "cell_type": "code",
   "execution_count": 2,
   "id": "0bc184f2",
   "metadata": {},
   "outputs": [],
   "source": [
    "m = 10\n",
    "M = m*np.eye(2)\n",
    "C = 0\n",
    "d = 0\n",
    "R = np.zeros((2, 2))\n",
    "\n",
    "V_init = np.matrix([[0.1], [0.1]])\n",
    "\n",
    "N = 100"
   ]
  },
  {
   "cell_type": "code",
   "execution_count": 3,
   "id": "fb762555",
   "metadata": {},
   "outputs": [
    {
     "data": {
      "image/png": "[encoded data removed]",
      "text/plain": [
       "<Figure size 432x288 with 1 Axes>"
      ]
     },
     "metadata": {
      "needs_background": "light"
     },
     "output_type": "display_data"
    }
   ],
   "source": [
    "# PATH gen\n",
    "x = np.linspace(0, 5, N).reshape(-1, 1)\n",
    "q = np.hstack((x, np.power(x, 2))).T\n",
    "\n",
    "plt.figure()\n",
    "plt.plot(q[0, :], q[1, :], \"r-.\")\n",
    "plt.grid()\n",
    "plt.title(\"Traversing path\")\n",
    "plt.show()"
   ]
  },
  {
   "cell_type": "code",
   "execution_count": 31,
   "id": "9e179c71",
   "metadata": {},
   "outputs": [],
   "source": [
    "def R(s):\n",
    "    n = s.shape[1]\n",
    "    r = np.zeros((n, 2, 2))\n",
    "    phi = np.arctan(s[1, :]/s[0, :])\n",
    "    for i in range(n):\n",
    "        r[i, :, :] = np.matrix([[np.cos(phi[i]), -1*np.sin(phi[i])], [np.sin(phi[i]), np.cos(phi[i])]])\n",
    "    return r"
   ]
  },
  {
   "cell_type": "code",
   "execution_count": 5,
   "id": "1d371751",
   "metadata": {},
   "outputs": [],
   "source": [
    "thetha = np.linspace(0, 1, N).reshape(1, -1)\n",
    "dthetha = thetha[0, 1] - thetha[0, 0]"
   ]
  },
  {
   "cell_type": "code",
   "execution_count": 6,
   "id": "b86a4e89",
   "metadata": {},
   "outputs": [],
   "source": [
    "def get_bar(thetha, N):\n",
    "    thetha_bar = []\n",
    "    for i in range(1, N):\n",
    "        thetha_bar.append((thetha[:, i] + thetha[:, i-1])/2)\n",
    "    thetha_bar = np.array(thetha_bar).reshape(1, -1)\n",
    "    return thetha_bar"
   ]
  },
  {
   "cell_type": "code",
   "execution_count": 7,
   "id": "6b90d369",
   "metadata": {},
   "outputs": [],
   "source": [
    "thetha_bar = get_bar(thetha, N)"
   ]
  },
  {
   "cell_type": "code",
   "execution_count": 50,
   "id": "937f52c3",
   "metadata": {},
   "outputs": [],
   "source": [
    "u = cp.Variable((2, N))\n",
    "b = cp.Variable((1, N))"
   ]
  },
  {
   "cell_type": "code",
   "execution_count": 9,
   "id": "767eab92",
   "metadata": {},
   "outputs": [],
   "source": [
    "b_bar = get_bar(b, N)"
   ]
  },
  {
   "cell_type": "code",
   "execution_count": 10,
   "id": "fe098643",
   "metadata": {},
   "outputs": [],
   "source": [
    "a = (cp.diff(b.T, k=1)/(2*dthetha)).T"
   ]
  },
  {
   "cell_type": "code",
   "execution_count": 51,
   "id": "6bfceea2",
   "metadata": {},
   "outputs": [
    {
     "data": {
      "text/plain": [
       "(1, 99)"
      ]
     },
     "execution_count": 51,
     "metadata": {},
     "output_type": "execute_result"
    }
   ],
   "source": [
    "a.shape"
   ]
  },
  {
   "cell_type": "code",
   "execution_count": 11,
   "id": "32483d11",
   "metadata": {},
   "outputs": [],
   "source": [
    "s_bar_1 = (cp.diff(q.T, k=1)/dthetha).T"
   ]
  },
  {
   "cell_type": "code",
   "execution_count": 12,
   "id": "32f42098",
   "metadata": {},
   "outputs": [
    {
     "data": {
      "text/plain": [
       "(2, 99)"
      ]
     },
     "execution_count": 12,
     "metadata": {},
     "output_type": "execute_result"
    }
   ],
   "source": [
    "s_bar_1.shape"
   ]
  },
  {
   "cell_type": "code",
   "execution_count": 13,
   "id": "b727f77a",
   "metadata": {},
   "outputs": [],
   "source": [
    "s_bar_2 = (cp.diff(q.T, k=2)/dthetha).T"
   ]
  },
  {
   "cell_type": "code",
   "execution_count": 14,
   "id": "dac09a1f",
   "metadata": {},
   "outputs": [
    {
     "data": {
      "text/plain": [
       "(2, 98)"
      ]
     },
     "execution_count": 14,
     "metadata": {},
     "output_type": "execute_result"
    }
   ],
   "source": [
    "s_bar_2.shape"
   ]
  },
  {
   "cell_type": "code",
   "execution_count": 18,
   "id": "8d7d483b",
   "metadata": {},
   "outputs": [],
   "source": [
    "cost = 0\n",
    "for i in range(1, N):\n",
    "    cost += 2*dthetha/(cp.sqrt(b[0, i]) + cp.sqrt(b[0, i-1]))"
   ]
  },
  {
   "cell_type": "code",
   "execution_count": 23,
   "id": "e45e9415",
   "metadata": {},
   "outputs": [],
   "source": [
    "Objective = cp.Minimize(cost)"
   ]
  },
  {
   "cell_type": "code",
   "execution_count": 64,
   "id": "91099c87",
   "metadata": {},
   "outputs": [],
   "source": [
    "Objective = cp.Minimize(0)"
   ]
  },
  {
   "cell_type": "code",
   "execution_count": 65,
   "id": "badea6d8",
   "metadata": {},
   "outputs": [],
   "source": [
    "R_tilde = R(s_bar_1.value)"
   ]
  },
  {
   "cell_type": "code",
   "execution_count": 66,
   "id": "d08692ab",
   "metadata": {},
   "outputs": [
    {
     "data": {
      "text/plain": [
       "(99, 2, 2)"
      ]
     },
     "execution_count": 66,
     "metadata": {},
     "output_type": "execute_result"
    }
   ],
   "source": [
    "R_tilde.shape"
   ]
  },
  {
   "cell_type": "code",
   "execution_count": 67,
   "id": "14f277ee",
   "metadata": {},
   "outputs": [],
   "source": [
    "m_tilde = M@s_bar_1\n",
    "c_tilde = M@cp.hstack((s_bar_2, cp.reshape(s_bar_2[:, -1], (2, 1)))) + C*cp.power(s_bar_1, 2)\n",
    "d_tilde = d"
   ]
  },
  {
   "cell_type": "code",
   "execution_count": 68,
   "id": "26f1ad39",
   "metadata": {},
   "outputs": [],
   "source": [
    "s_1 = cp.diff(q, axis=1)"
   ]
  },
  {
   "cell_type": "code",
   "execution_count": 69,
   "id": "91b00dc4",
   "metadata": {},
   "outputs": [],
   "source": [
    "Constraints = []\n",
    "for i in range(1, N-1):\n",
    "    Constraints.append(R_tilde[i]@cp.reshape(u[:, i], (2, 1)) == m_tilde*a[:, i] + c_tilde*0.5*(b[:, i-1] + b[:, i]) + d_tilde)\n",
    "Constraints.append(b[:, 0] == cp.power(np.linalg.norm(V_init)*dthetha/np.linalg.norm(q[1] - q[0]), 2))"
   ]
  },
  {
   "cell_type": "code",
   "execution_count": 70,
   "id": "ab5a52cf",
   "metadata": {},
   "outputs": [],
   "source": [
    "problem = cp.Problem(objective=Objective, constraints=Constraints)"
   ]
  },
  {
   "cell_type": "code",
   "execution_count": 71,
   "id": "2d97502d",
   "metadata": {
    "scrolled": false
   },
   "outputs": [
    {
     "name": "stdout",
     "output_type": "stream",
     "text": [
      "===============================================================================\n",
      "                                     CVXPY                                     \n",
      "                                     v1.2.0                                    \n",
      "===============================================================================\n",
      "(CVXPY) Apr 17 12:44:16 PM: Your problem has 400 variables, 99 constraints, and 0 parameters.\n",
      "(CVXPY) Apr 17 12:44:16 PM: It is compliant with the following grammars: DCP, DQCP\n",
      "(CVXPY) Apr 17 12:44:16 PM: (If you need to solve this problem multiple times, but with different data, consider using parameters.)\n",
      "(CVXPY) Apr 17 12:44:16 PM: CVXPY will first compile your problem; then, it will invoke a numerical solver to obtain a solution.\n",
      "-------------------------------------------------------------------------------\n",
      "                                  Compilation                                  \n",
      "-------------------------------------------------------------------------------\n",
      "(CVXPY) Apr 17 12:44:16 PM: Compiling problem (target solver=ECOS).\n",
      "(CVXPY) Apr 17 12:44:16 PM: Reduction chain: Dcp2Cone -> CvxAttr2Constr -> ConeMatrixStuffing -> ECOS\n",
      "(CVXPY) Apr 17 12:44:16 PM: Applying reduction Dcp2Cone\n",
      "(CVXPY) Apr 17 12:44:17 PM: Applying reduction CvxAttr2Constr\n",
      "(CVXPY) Apr 17 12:44:17 PM: Applying reduction ConeMatrixStuffing\n",
      "(CVXPY) Apr 17 12:44:17 PM: Applying reduction ECOS\n",
      "(CVXPY) Apr 17 12:44:17 PM: Finished problem compilation (took 5.731e-01 seconds).\n",
      "-------------------------------------------------------------------------------\n",
      "                                Numerical solver                               \n",
      "-------------------------------------------------------------------------------\n",
      "(CVXPY) Apr 17 12:44:17 PM: Invoking solver ECOS  to obtain a solution.\n",
      "\n",
      "ECOS 2.0.7 - (C) embotech GmbH, Zurich Switzerland, 2012-15. Web: www.embotech.com/ECOS\n",
      "\n",
      "It     pcost       dcost      gap   pres   dres    k/t    mu     step   sigma     IR    |   BT\n",
      " 0  +0.000e+00  -0.000e+00  +0e+00  3e-23  0e+00  1e+00  1e+00    ---    ---    0  0  - |  -  - \n",
      "\n",
      "OPTIMAL (within feastol=3.1e-23, reltol=-nan, abstol=0.0e+00).\n",
      "Runtime: 0.047503 seconds.\n",
      "\n",
      "-------------------------------------------------------------------------------\n",
      "                                    Summary                                    \n",
      "-------------------------------------------------------------------------------\n",
      "(CVXPY) Apr 17 12:44:17 PM: Problem status: optimal\n",
      "(CVXPY) Apr 17 12:44:17 PM: Optimal value: 0.000e+00\n",
      "(CVXPY) Apr 17 12:44:17 PM: Compilation took 5.731e-01 seconds\n",
      "(CVXPY) Apr 17 12:44:17 PM: Solver (including time spent in interface) took 4.991e-02 seconds\n"
     ]
    },
    {
     "data": {
      "text/plain": [
       "0.0"
      ]
     },
     "execution_count": 71,
     "metadata": {},
     "output_type": "execute_result"
    }
   ],
   "source": [
    "problem.solve(verbose=True)"
   ]
  },
  {
   "cell_type": "code",
   "execution_count": null,
   "id": "dba241cc",
   "metadata": {},
   "outputs": [],
   "source": []
  }
 ],
 "metadata": {
  "kernelspec": {
   "display_name": "Python 3",
   "language": "python",
   "name": "python3"
  },
  "language_info": {
   "codemirror_mode": {
    "name": "ipython",
    "version": 3
   },
   "file_extension": ".py",
   "mimetype": "text/x-python",
   "name": "python",
   "nbconvert_exporter": "python",
   "pygments_lexer": "ipython3",
   "version": "3.8.10"
  }
 },
 "nbformat": 4,
 "nbformat_minor": 5
}
