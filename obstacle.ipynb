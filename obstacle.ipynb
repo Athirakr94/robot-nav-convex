{
 "cells": [
  {
   "cell_type": "code",
   "execution_count": 1,
   "id": "2956f7b9",
   "metadata": {},
   "outputs": [],
   "source": [
    "import cvxpy as cp\n",
    "import matplotlib.pyplot as plt\n",
    "import numpy as np\n",
    "from math import sin,cos,pi"
   ]
  },
  {
   "cell_type": "code",
   "execution_count": 2,
   "id": "59ea308d",
   "metadata": {},
   "outputs": [
    {
     "name": "stdout",
     "output_type": "stream",
     "text": [
      "[[12.71965057 26.29110571]\n",
      " [ 8.31687759 27.17749422]\n",
      " [37.21680689 12.34854687]\n",
      " [16.50541573 47.52890998]\n",
      " [37.76120006 16.83833281]]\n"
     ]
    }
   ],
   "source": [
    "m=5#number of obstacles\n",
    "O=np.random.rand(m,2)*50\n",
    "\n",
    "rl=2\n",
    "ru=5\n",
    "print(O)\n"
   ]
  },
  {
   "cell_type": "code",
   "execution_count": 3,
   "id": "11984a51",
   "metadata": {},
   "outputs": [
    {
     "data": {
      "image/png": "[encoded data removed]",
      "text/plain": [
       "<Figure size 432x288 with 1 Axes>"
      ]
     },
     "metadata": {
      "needs_background": "light"
     },
     "output_type": "display_data"
    },
    {
     "name": "stdout",
     "output_type": "stream",
     "text": [
      "[[0.0, 0.0], [5.3571428571428585, 8.653843611976129], [10.714285714285717, 16.057687223952257], [16.071428571428573, 22.21153083592838], [21.428571428571434, 27.115374447904514], [26.785714285714295, 30.769218059880643], [32.142857142857146, 33.17306167185676], [37.50000000000001, 34.3269052838329], [42.85714285714287, 34.23074889580902], [48.21428571428573, 32.88459250778515], [53.57142857142859, 30.28843611976128], [58.928571428571445, 26.4422797317374], [64.28571428571429, 21.346123343713515], [69.64285714285717, 14.999966955689658], [75.00000000000001, 7.403810567665786]]\n"
     ]
    }
   ],
   "source": [
    "v = 30\n",
    "g = 9.8\n",
    "#increment theta 25 to 60 then find  t, x, y\n",
    "#define x and y as arrays\n",
    "trajectory=[]\n",
    "# theta = np.arange(pi/6, pi/3, pi/36)\n",
    "\n",
    "t = np.linspace(0, 5, num=15) # Set time as 'continous' parameter.\n",
    "\n",
    "# for i in theta: # Calculate trajectory for every angle\n",
    "theta=pi/3\n",
    "x1 = []\n",
    "y1 = []\n",
    "for k in t:\n",
    "    x = ((v*k)*np.cos(theta)) # get positions at every point in time\n",
    "    y = ((v*k)*np.sin(theta))-((0.5*g)*(k**2))\n",
    "    x1.append(x)\n",
    "    y1.append(y)\n",
    "    trajectory.append([x,y])\n",
    "\n",
    "p = [i for i, j in enumerate(y1) if j < 0] # Don't fall through the floor                          \n",
    "for i in sorted(p, reverse = True):\n",
    "    del x1[i]\n",
    "    del y1[i]\n",
    "\n",
    "plt.plot(x1, y1) # Plot for every angle\n",
    "plt.show() # And show on one graphic\n",
    "print(trajectory)"
   ]
  },
  {
   "cell_type": "code",
   "execution_count": null,
   "id": "6b530162",
   "metadata": {},
   "outputs": [],
   "source": [
    "\n",
    "    "
   ]
  },
  {
   "cell_type": "code",
   "execution_count": 4,
   "id": "9d17d466",
   "metadata": {},
   "outputs": [
    {
     "ename": "IndentationError",
     "evalue": "expected an indented block (615387774.py, line 8)",
     "output_type": "error",
     "traceback": [
      "\u001b[0;36m  File \u001b[0;32m\"/tmp/ipykernel_2892/615387774.py\"\u001b[0;36m, line \u001b[0;32m8\u001b[0m\n\u001b[0;31m    B[i]=generate_bubble(Pi)\u001b[0m\n\u001b[0m    ^\u001b[0m\n\u001b[0;31mIndentationError\u001b[0m\u001b[0;31m:\u001b[0m expected an indented block\n"
     ]
    }
   ],
   "source": [
    "\n",
    "for i in range(2,n-1):\n",
    "    if norm(P[i]-A[i-1],2)<=0.5*r[i-1]:\n",
    "        B[i]=B[i-1]\n",
    "        A[i]=A[i-1]\n",
    "        r[i]=r[i-1]\n",
    "        continue\n",
    "    else:\n",
    "    B[i]=generate_bubble(Pi)\n",
    "    r[i]=get_radius(B[i])\n",
    "    A[i]=P[i]\n",
    "    if r[i]<rl:\n",
    "        B[i]=translate_bubble(A[i],r[i])\n",
    "        r[i]=get_radius(B[i])\n",
    "        A[i]=get_center(B[i])"
   ]
  },
  {
   "cell_type": "code",
   "execution_count": null,
   "id": "46cf9e16",
   "metadata": {},
   "outputs": [],
   "source": [
    "\n",
    "#     constraints=[norm(x[i]-A[i])<=r[i]]\n",
    "#     return bubble={x}\n",
    "def translate_bubble(xi,Pi):#return larget ball\n",
    "    \n",
    "    return max()\n",
    "def compute_balancing_force(Q_old,Q_new,F_old):\n",
    "    F_new=Q_new-Q_old\n",
    "    N_new=F_old-F_new\n",
    "    return N_new#captures curvature info\n",
    "    \n",
    "    \n",
    "    \n",
    "    "
   ]
  },
  {
   "cell_type": "code",
   "execution_count": null,
   "id": "0bdddc07",
   "metadata": {},
   "outputs": [],
   "source": [
    "ax = plt.gca()\n",
    "ax.set_xlim((0, 100))\n",
    "ax.set_ylim((0, 100))\n",
    "for i in trajectory:\n",
    "#     current_plot=plt.Circle(current_bubble[0], current_bubble[1], color='g', alpha=0.4)\n",
    "#     next_plot=plt.Circle(next_bubble[0], next_bubble[1], color='r', alpha=0.2)\n",
    "#     ax.add_patch(current_plot)\n",
    "#     ax.add_patch(next_plot)\n",
    "    ax.plot((i[0]),(i[1]), 'o', color='k')\n",
    "    \n",
    "#     ax.plot((next_bubble[0][0]),(next_bubble[0][1]) ,'o', color='k')\n",
    "print(len(trajectory))"
   ]
  },
  {
   "cell_type": "code",
   "execution_count": null,
   "id": "800debe2",
   "metadata": {},
   "outputs": [],
   "source": [
    "#Assume vehicle at P[0]\n"
   ]
  },
  {
   "cell_type": "code",
   "execution_count": null,
   "id": "8a06829d",
   "metadata": {},
   "outputs": [],
   "source": [
    "def compute_balancing_force(Q_old,Q_new,F_old):\n",
    "    F_new=Q_new-Q_old\n",
    "    N_new=F_old-F_new\n",
    "    return N_new\n",
    "def generate_bubble(Pi):#bisection\n",
    "    r_min=2\n",
    "    r_max=5\n",
    "#     max_iter=100\n",
    "    r=0\n",
    "    while r_max-r_min>1:\n",
    "        r=0.5*(r_min+r_max)\n",
    "        objective=cp.Minimize(r)\n",
    "        constraints=[]\n",
    "        for obstacles in O:\n",
    "            constraints.append(cp.norm(obstacles-Pi,2)>=r)\n",
    "        prob=cp.Problem(objective,constraints)\n",
    "        if prob.status==\"optimal\":\n",
    "            r_max=r\n",
    "        else:\n",
    "            r_min=r\n",
    "#         print(r_min,r_max,r)\n",
    "    \n",
    "    return [Pi,r]\n",
    "def compute_norm(x,order=None):\n",
    "    return np.linalg.norm(x, ord=order)\n",
    "\n",
    "trajectory=np.array(trajectory)\n",
    "current_index=0\n",
    "current_pose=trajectory[current_index]\n",
    "radius=2\n",
    "bubble=np.zeros((2,len(trajectory)))\n",
    "target_pose=trajectory[-1]\n",
    "ax = plt.gca()\n",
    "\n",
    "ax.set_xlim((0, 100))\n",
    "ax.set_ylim((0, 50))\n",
    "for i in O:\n",
    "    obs_plot=plt.Circle(query_bubble[0], query_bubble[1], color='b', alpha=0.2)\n",
    "\n",
    "    ax.plot(i,2, 'o', color='m',alpha=0.4)\n",
    "waypoints=[]\n",
    "while compute_norm(current_pose-target_pose,2)>0.5*radius:\n",
    "#     print(current_index)\n",
    "    current_pose=trajectory[current_index]\n",
    "#     waypoints.append(current_pose)\n",
    "    next_target=trajectory[current_index+1]\n",
    "    current_bubble=generate_bubble(current_pose)\n",
    "    next_bubble=generate_bubble(next_target)\n",
    "#     print(\"current bubble\",current_bubble,\"next bubble\",next_bubble)\n",
    "    current_plot=plt.Circle(current_bubble[0], current_bubble[1], color='g', alpha=0.4)\n",
    "    next_plot=plt.Circle(next_bubble[0], next_bubble[1], color='r', alpha=0.2)\n",
    "    ax.add_patch(current_plot)\n",
    "    ax.add_patch(next_plot)\n",
    "    ax.plot((current_bubble[0][0]),(current_bubble[0][1]), 'o', color='k')\n",
    "    ax.plot((next_bubble[0][0]),(next_bubble[0][1]) ,'o', color='k')\n",
    "       \n",
    "    \n",
    "#     print(next_bubble[1]+current_bubble[1],compute_norm(current_pose-next_target,2))\n",
    "    if next_bubble[1]+current_bubble[1]>compute_norm(current_pose-next_target,2) and next_target[1]>1.5*radius:\n",
    "        next_bubble=current_bubble\n",
    "#         theta=compute_balancing_force(Q_old,Q_new,F_old)\n",
    "        waypoints.append(next_target)\n",
    "    else:\n",
    "        query_pose=current_pose\n",
    "        query_bubble=current_bubble\n",
    "        while next_bubble[1]+query_bubble[1]<=compute_norm(query_pose-next_target,2):\n",
    "            query_pose=(query_pose+next_target)*0.5\n",
    "            query_bubble=generate_bubble(query_pose)\n",
    "            query_plot=plt.Circle(query_bubble[0], query_bubble[1], color='b', alpha=0.2)\n",
    "#             print(\"intermediate bubble\",query_bubble)\n",
    "            waypoints.append(query_pose)\n",
    "            ax.add_patch(query_plot)\n",
    "\n",
    "        waypoints.append(next_target)\n",
    "    current_index+=1\n",
    "    if current_index==len(trajectory)-1:\n",
    "        break\n",
    "\n",
    "print(\"Waypoints\",waypoints)\n",
    "print(len(waypoints))\n",
    "\n",
    "\n",
    "\n",
    "\n",
    "        "
   ]
  },
  {
   "cell_type": "code",
   "execution_count": null,
   "id": "f3e3de3c",
   "metadata": {},
   "outputs": [],
   "source": []
  },
  {
   "cell_type": "code",
   "execution_count": null,
   "id": "150bca8f",
   "metadata": {},
   "outputs": [],
   "source": []
  }
 ],
 "metadata": {
  "kernelspec": {
   "display_name": "Python 3 (ipykernel)",
   "language": "python",
   "name": "python3"
  },
  "language_info": {
   "codemirror_mode": {
    "name": "ipython",
    "version": 3
   },
   "file_extension": ".py",
   "mimetype": "text/x-python",
   "name": "python",
   "nbconvert_exporter": "python",
   "pygments_lexer": "ipython3",
   "version": "3.9.7"
  }
 },
 "nbformat": 4,
 "nbformat_minor": 5
}
